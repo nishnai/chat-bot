{
 "cells": [
  {
   "cell_type": "code",
   "execution_count": 1,
   "id": "9f439b97",
   "metadata": {
    "scrolled": false
   },
   "outputs": [
    {
     "name": "stderr",
     "output_type": "stream",
     "text": [
      "C:\\Python\\Python39\\lib\\site-packages\\scipy\\__init__.py:138: UserWarning: A NumPy version >=1.16.5 and <1.23.0 is required for this version of SciPy (detected version 1.24.2)\n",
      "  warnings.warn(f\"A NumPy version >={np_minversion} and <{np_maxversion} is required for this version of \"\n"
     ]
    }
   ],
   "source": [
    "from chatterbot import ChatBot\n",
    "from chatterbot.trainers import ListTrainer"
   ]
  },
  {
   "cell_type": "code",
   "execution_count": 2,
   "id": "23150ed0",
   "metadata": {},
   "outputs": [
    {
     "name": "stderr",
     "output_type": "stream",
     "text": [
      "[nltk_data] Downloading package averaged_perceptron_tagger to\n",
      "[nltk_data]     C:\\Users\\nnair\\AppData\\Roaming\\nltk_data...\n",
      "[nltk_data]   Package averaged_perceptron_tagger is already up-to-\n",
      "[nltk_data]       date!\n",
      "[nltk_data] Downloading package punkt to\n",
      "[nltk_data]     C:\\Users\\nnair\\AppData\\Roaming\\nltk_data...\n",
      "[nltk_data]   Package punkt is already up-to-date!\n",
      "[nltk_data] Downloading package stopwords to\n",
      "[nltk_data]     C:\\Users\\nnair\\AppData\\Roaming\\nltk_data...\n",
      "[nltk_data]   Package stopwords is already up-to-date!\n"
     ]
    }
   ],
   "source": [
    "my_bot = ChatBot(name='PyBot', read_only=True, \n",
    "                 logic_adapters=['chatterbot.logic.MathematicalEvaluation','chatterbot.logic.BestMatch'])"
   ]
  },
  {
   "cell_type": "code",
   "execution_count": 3,
   "id": "6f85634c",
   "metadata": {
    "scrolled": true
   },
   "outputs": [
    {
     "name": "stdout",
     "output_type": "stream",
     "text": [
      "Help on class ChatBot in module chatterbot.chatterbot:\n",
      "\n",
      "class ChatBot(builtins.object)\n",
      " |  ChatBot(name, **kwargs)\n",
      " |  \n",
      " |  A conversational dialog chat bot.\n",
      " |  \n",
      " |  Methods defined here:\n",
      " |  \n",
      " |  __init__(self, name, **kwargs)\n",
      " |      Initialize self.  See help(type(self)) for accurate signature.\n",
      " |  \n",
      " |  generate_response(self, input_statement, additional_response_selection_parameters=None)\n",
      " |      Return a response based on a given input statement.\n",
      " |      \n",
      " |      :param input_statement: The input statement to be processed.\n",
      " |  \n",
      " |  get_initialization_functions(self)\n",
      " |  \n",
      " |  get_latest_response(self, conversation)\n",
      " |      Returns the latest response in a conversation if it exists.\n",
      " |      Returns None if a matching conversation cannot be found.\n",
      " |  \n",
      " |  get_response(self, statement=None, **kwargs)\n",
      " |      Return the bot's response based on the input.\n",
      " |      \n",
      " |      :param statement: An statement object or string.\n",
      " |      :returns: A response to the input.\n",
      " |      :rtype: Statement\n",
      " |      \n",
      " |      :param additional_response_selection_parameters: Parameters to pass to the\n",
      " |          chat bot's logic adapters to control response selection.\n",
      " |      :type additional_response_selection_parameters: dict\n",
      " |      \n",
      " |      :param persist_values_to_response: Values that should be saved to the response\n",
      " |          that the chat bot generates.\n",
      " |      :type persist_values_to_response: dict\n",
      " |  \n",
      " |  initialize(self)\n",
      " |      Do any work that needs to be done before the chatbot can process responses.\n",
      " |  \n",
      " |  learn_response(self, statement, previous_statement=None)\n",
      " |      Learn that the statement provided is a valid response.\n",
      " |  \n",
      " |  ----------------------------------------------------------------------\n",
      " |  Data descriptors defined here:\n",
      " |  \n",
      " |  __dict__\n",
      " |      dictionary for instance variables (if defined)\n",
      " |  \n",
      " |  __weakref__\n",
      " |      list of weak references to the object (if defined)\n",
      " |  \n",
      " |  ----------------------------------------------------------------------\n",
      " |  Data and other attributes defined here:\n",
      " |  \n",
      " |  ChatBotException = <class 'chatterbot.chatterbot.ChatBot.ChatBotExcept...\n",
      "\n"
     ]
    }
   ],
   "source": [
    "help(ChatBot)"
   ]
  },
  {
   "cell_type": "code",
   "execution_count": 4,
   "id": "b9129044",
   "metadata": {},
   "outputs": [],
   "source": [
    "small_talk = ['hi there!',\n",
    "              'hi!',\n",
    "              'how do you do?',\n",
    "              'how are you?',\n",
    "              'i\\'m cool.',\n",
    "              'fine, you?',\n",
    "              'always cool.',\n",
    "              'i\\'m ok',\n",
    "              'glad to hear that.',\n",
    "              'i\\'m fine',\n",
    "              'glad to hear that.',\n",
    "              'i feel awesome',\n",
    "              'excellent, glad to hear that.',\n",
    "              'not so good',\n",
    "              'sorry to hear that.',\n",
    "              'what\\'s your name?',\n",
    "              'i\\'m pybot. ask me a math question, please.']\n",
    "math_talk_1 = ['pythagorean theorem',\n",
    "               'a squared plus b squared equals c squared.']\n",
    "math_talk_2 = ['law of cosines',\n",
    "               'c**2 = a**2 + b**2 - 2 * a * b * cos(gamma)']"
   ]
  },
  {
   "cell_type": "code",
   "execution_count": 5,
   "id": "7cb6e348",
   "metadata": {},
   "outputs": [
    {
     "name": "stdout",
     "output_type": "stream",
     "text": [
      "List Trainer: [####################] 100%\n",
      "List Trainer: [####################] 100%\n",
      "List Trainer: [####################] 100%\n"
     ]
    }
   ],
   "source": [
    "list_trainer = ListTrainer(my_bot)\n",
    "for item in (small_talk, math_talk_1, math_talk_2):\n",
    "    list_trainer.train(item)"
   ]
  },
  {
   "cell_type": "code",
   "execution_count": 6,
   "id": "e326a5c7",
   "metadata": {},
   "outputs": [
    {
     "name": "stdout",
     "output_type": "stream",
     "text": [
      "Training ai.yml: [####################] 100%\n",
      "Training botprofile.yml: [####################] 100%\n",
      "Training computers.yml: [####################] 100%\n",
      "Training conversations.yml: [####################] 100%\n",
      "Training emotion.yml: [####################] 100%\n",
      "Training food.yml: [####################] 100%\n",
      "Training gossip.yml: [####################] 100%\n",
      "Training greetings.yml: [####################] 100%\n",
      "Training health.yml: [####################] 100%\n",
      "Training history.yml: [####################] 100%\n",
      "Training humor.yml: [####################] 100%\n",
      "Training literature.yml: [####################] 100%\n",
      "Training money.yml: [####################] 100%\n",
      "Training movies.yml: [####################] 100%\n",
      "Training politics.yml: [####################] 100%\n",
      "Training psychology.yml: [####################] 100%\n",
      "Training science.yml: [####################] 100%\n",
      "Training sports.yml: [####################] 100%\n",
      "Training trivia.yml: [####################] 100%\n"
     ]
    }
   ],
   "source": [
    "from chatterbot.trainers import ChatterBotCorpusTrainer\n",
    "corpus_trainer = ChatterBotCorpusTrainer(my_bot)\n",
    "corpus_trainer.train('chatterbot.corpus.english')"
   ]
  },
  {
   "cell_type": "code",
   "execution_count": 7,
   "id": "6c7ad5d4",
   "metadata": {},
   "outputs": [
    {
     "name": "stdout",
     "output_type": "stream",
     "text": [
      "how do you do?\n"
     ]
    }
   ],
   "source": [
    "print(my_bot.get_response('hi'))"
   ]
  },
  {
   "cell_type": "code",
   "execution_count": 8,
   "id": "59b6c503",
   "metadata": {},
   "outputs": [
    {
     "name": "stdout",
     "output_type": "stream",
     "text": [
      "do you liked it?\n"
     ]
    }
   ],
   "source": [
    "print(my_bot.get_response('i fell in the pit today'))"
   ]
  },
  {
   "cell_type": "code",
   "execution_count": 9,
   "id": "6967a5f9",
   "metadata": {},
   "outputs": [
    {
     "name": "stdout",
     "output_type": "stream",
     "text": [
      "my burn rate is about _3000 per month.\n"
     ]
    }
   ],
   "source": [
    "print(my_bot.get_response('why would i like falling in a pit?'))"
   ]
  },
  {
   "cell_type": "code",
   "execution_count": 10,
   "id": "802a3e70",
   "metadata": {},
   "outputs": [
    {
     "name": "stdout",
     "output_type": "stream",
     "text": [
      "i'm cool.\n"
     ]
    }
   ],
   "source": [
    "print(my_bot.get_response('how are you'))"
   ]
  },
  {
   "cell_type": "code",
   "execution_count": 11,
   "id": "e02bfe7c",
   "metadata": {},
   "outputs": [
    {
     "name": "stdout",
     "output_type": "stream",
     "text": [
      "how are you?\n"
     ]
    }
   ],
   "source": [
    "print(my_bot.get_response('what do you do'))"
   ]
  },
  {
   "cell_type": "code",
   "execution_count": 12,
   "id": "05be22f5",
   "metadata": {},
   "outputs": [
    {
     "name": "stdout",
     "output_type": "stream",
     "text": [
      "Random system crashes.\n"
     ]
    }
   ],
   "source": [
    "print(my_bot.get_response('who is the prime minister of india'))"
   ]
  },
  {
   "cell_type": "code",
   "execution_count": 13,
   "id": "e9092f40",
   "metadata": {},
   "outputs": [
    {
     "name": "stdout",
     "output_type": "stream",
     "text": [
      "What do you get when you cross finals and a chicken? Eggs-ams.\n"
     ]
    }
   ],
   "source": [
    "print(my_bot.get_response('who is the president of the united states of america'))"
   ]
  },
  {
   "cell_type": "code",
   "execution_count": 14,
   "id": "1e0de24f",
   "metadata": {},
   "outputs": [
    {
     "name": "stdout",
     "output_type": "stream",
     "text": [
      "Did you hear the one about the mountain goats in the andes? It was \"ba a a a a a d\".\n"
     ]
    }
   ],
   "source": [
    "print(my_bot.get_response('tell me a joke'))"
   ]
  }
 ],
 "metadata": {
  "kernelspec": {
   "display_name": "Python 3 (ipykernel)",
   "language": "python",
   "name": "python3"
  },
  "language_info": {
   "codemirror_mode": {
    "name": "ipython",
    "version": 3
   },
   "file_extension": ".py",
   "mimetype": "text/x-python",
   "name": "python",
   "nbconvert_exporter": "python",
   "pygments_lexer": "ipython3",
   "version": "3.9.5"
  }
 },
 "nbformat": 4,
 "nbformat_minor": 5
}
