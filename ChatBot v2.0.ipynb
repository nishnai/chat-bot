{
 "cells": [
  {
   "cell_type": "code",
   "execution_count": 1,
   "id": "6ff76f4c",
   "metadata": {},
   "outputs": [],
   "source": [
    "import warnings\n",
    "warnings.filterwarnings('ignore')\n",
    "from chatterbot import ChatBot\n",
    "from chatterbot.trainers import ListTrainer\n",
    "from chatterbot.trainers import ChatterBotCorpusTrainer\n",
    "from simpletransformers.question_answering import QuestionAnsweringModel, QuestionAnsweringArgs\n",
    "import os \n",
    "import glob\n",
    "import pandas  as pd\n",
    "import json"
   ]
  },
  {
   "cell_type": "code",
   "execution_count": 2,
   "id": "836ec54a",
   "metadata": {
    "scrolled": true
   },
   "outputs": [
    {
     "name": "stderr",
     "output_type": "stream",
     "text": [
      "[nltk_data] Downloading package averaged_perceptron_tagger to\n",
      "[nltk_data]     C:\\Users\\nnair\\AppData\\Roaming\\nltk_data...\n",
      "[nltk_data]   Package averaged_perceptron_tagger is already up-to-\n",
      "[nltk_data]       date!\n",
      "[nltk_data] Downloading package punkt to\n",
      "[nltk_data]     C:\\Users\\nnair\\AppData\\Roaming\\nltk_data...\n",
      "[nltk_data]   Package punkt is already up-to-date!\n",
      "[nltk_data] Downloading package stopwords to\n",
      "[nltk_data]     C:\\Users\\nnair\\AppData\\Roaming\\nltk_data...\n",
      "[nltk_data]   Package stopwords is already up-to-date!\n"
     ]
    }
   ],
   "source": [
    "bot = ChatBot(\"Buddy\", read_only = True)"
   ]
  },
  {
   "cell_type": "code",
   "execution_count": 3,
   "id": "abd40144",
   "metadata": {},
   "outputs": [
    {
     "name": "stdout",
     "output_type": "stream",
     "text": [
      "List Trainer: [####################] 100%\n",
      "List Trainer: [####################] 100%\n",
      "List Trainer: [####################] 100%\n",
      "List Trainer: [####################] 100%\n"
     ]
    }
   ],
   "source": [
    "trainer = ListTrainer(bot)\n",
    "trainer.train([\n",
    "    \"Hi, can I help you\",\n",
    "    \"Who are you?\",\n",
    "    \"I am your virtual assistant that can help you with information on tenders and projects\",\n",
    "    \"What countries information do you give?\",\n",
    "    \"I can help you with Iceland, Luxembourg and Malta because the data of these countries were perfect for my kernel.😁\",\n",
    "    \"Can you do anything else?\",\n",
    "    \"I can tell the time. And solve basic mathematical equations.\"\n",
    "])\n",
    "\n",
    "trainer.train([\n",
    "    \"What do you do?\",\n",
    "    \"I am a virutal assistant that can help you with information on tenders and projects\",\n",
    "    \"Which countries information can you give?\",\n",
    "    \"I can help you with Iceland, Luxembourg and Malta because the data of these countries were perfect for my kernel.😁\",\n",
    "    \"What else can you do?\",\n",
    "    \"I can tell the time. And solve basic mathematical equations.\"\n",
    "])\n",
    "\n",
    "trainer.train([\n",
    "    'pythagorean theorem',\n",
    "    'a squared plus b squared equals c squared.'\n",
    "])\n",
    "\n",
    "trainer.train([\n",
    "    'law of cosines',\n",
    "    'c**2 = a**2 + b**2 - 2 * a * b * cos(gamma)'\n",
    "])"
   ]
  },
  {
   "cell_type": "code",
   "execution_count": 4,
   "id": "be84adb1",
   "metadata": {},
   "outputs": [
    {
     "name": "stdout",
     "output_type": "stream",
     "text": [
      "We accept debit cards and major credit cards\n"
     ]
    }
   ],
   "source": [
    "response = bot.get_response('payment method')\n",
    "print(response)"
   ]
  },
  {
   "cell_type": "code",
   "execution_count": 5,
   "id": "22959a3a",
   "metadata": {
    "scrolled": true
   },
   "outputs": [
    {
     "name": "stderr",
     "output_type": "stream",
     "text": [
      "[nltk_data] Downloading package averaged_perceptron_tagger to\n",
      "[nltk_data]     C:\\Users\\nnair\\AppData\\Roaming\\nltk_data...\n",
      "[nltk_data]   Package averaged_perceptron_tagger is already up-to-\n",
      "[nltk_data]       date!\n",
      "[nltk_data] Downloading package punkt to\n",
      "[nltk_data]     C:\\Users\\nnair\\AppData\\Roaming\\nltk_data...\n",
      "[nltk_data]   Package punkt is already up-to-date!\n",
      "[nltk_data] Downloading package stopwords to\n",
      "[nltk_data]     C:\\Users\\nnair\\AppData\\Roaming\\nltk_data...\n",
      "[nltk_data]   Package stopwords is already up-to-date!\n"
     ]
    }
   ],
   "source": [
    "bot = ChatBot('Buddy', read_only = True,\n",
    "             preprocessors = ['chatterbot.preprocessors.clean_whitespace',\n",
    "                             'chatterbot.preprocessors.unescape_html',\n",
    "                              'chatterbot.preprocessors.convert_to_ascii'])"
   ]
  },
  {
   "cell_type": "code",
   "execution_count": 6,
   "id": "daf72ae8",
   "metadata": {},
   "outputs": [
    {
     "name": "stderr",
     "output_type": "stream",
     "text": [
      "[nltk_data] Downloading package averaged_perceptron_tagger to\n",
      "[nltk_data]     C:\\Users\\nnair\\AppData\\Roaming\\nltk_data...\n",
      "[nltk_data]   Package averaged_perceptron_tagger is already up-to-\n",
      "[nltk_data]       date!\n",
      "[nltk_data] Downloading package punkt to\n",
      "[nltk_data]     C:\\Users\\nnair\\AppData\\Roaming\\nltk_data...\n",
      "[nltk_data]   Package punkt is already up-to-date!\n",
      "[nltk_data] Downloading package stopwords to\n",
      "[nltk_data]     C:\\Users\\nnair\\AppData\\Roaming\\nltk_data...\n",
      "[nltk_data]   Package stopwords is already up-to-date!\n"
     ]
    }
   ],
   "source": [
    "bot = ChatBot('Buddy', logic_adapters=['chatterbot.logic.MathematicalEvaluation','chatterbot.logic.TimeLogicAdapter',\n",
    "    {'import_path':'chatterbot.logic.BestMatch',\n",
    "    'default_response':'I am sorry. I do not understand. I am still learning. Please contact nishanth@nair.com for further assistance.',\n",
    "    'maximum_similarity_threshold':0.90}],\n",
    "             read_only = True,\n",
    "             preprocessors = ['chatterbot.preprocessors.clean_whitespace',\n",
    "                             'chatterbot.preprocessors.unescape_html',\n",
    "                             'chatterbot.preprocessors.convert_to_ascii'])"
   ]
  },
  {
   "cell_type": "code",
   "execution_count": 7,
   "id": "68ad4531",
   "metadata": {},
   "outputs": [
    {
     "name": "stdout",
     "output_type": "stream",
     "text": [
      "Enter your name :Nish\n",
      "Welcome to Chabot v2.0! Let me know how can I help you.\n",
      "Nish: Which countries information do you give?\n",
      "Bot:  I can help you with Iceland, Luxembourg and Malta because the data of these countries were perfect for my kernel.😁\n",
      "Nish: Can you help anything else?\n",
      "Bot:  Yes, I have a question.\n",
      "Nish: What is it?\n",
      "Bot:  The current time is 02:54 PM\n",
      "Nish: time\n",
      "Bot:  The current time is 02:54 PM\n",
      "Nish: Can you do anything else?\n",
      "Bot:  I can tell the time. And solve basic mathematical equations.\n",
      "Nish: 2 + 100010\n",
      "Bot:  2 + 100010 = 100012\n",
      "Nish: 2030303 * 202020202\n",
      "Bot:  2030303 * 202020202 = 410162222181206\n",
      "Nish: what countries information do you give?\n",
      "Bot:  I can help you with Iceland, Luxembourg and Malta because the data of these countries were perfect for my kernel.😁\n",
      "Nish: thank you\n",
      "Bot:  The current time is 02:55 PM\n",
      "Nish: bye\n",
      "Bot: Bye\n"
     ]
    }
   ],
   "source": [
    "name = input('Enter your name :')\n",
    "print('Welcome to Chabot v2.0! Let me know how can I help you.')\n",
    "while True:\n",
    "    request = input(name+': ')\n",
    "    if request == 'Bye' or request == 'bye' or request == 'BYE':\n",
    "        print('Bot: Bye')\n",
    "        break\n",
    "    else:\n",
    "        response = bot.get_response(request)\n",
    "        print('Bot: ', response)"
   ]
  },
  {
   "cell_type": "code",
   "execution_count": 8,
   "id": "e6e94bde",
   "metadata": {},
   "outputs": [
    {
     "data": {
      "text/plain": [
       "0    {'created': '2021-02-11T05:55:02.165995', 'mod...\n",
       "1    {'created': '2021-02-14T07:43:55.812178', 'mod...\n",
       "2    {'created': '2021-02-14T11:39:41.826997', 'mod...\n",
       "3    {'created': '2021-02-14T09:55:13.424739', 'mod...\n",
       "4    {'created': '2021-02-11T09:36:42.12607', 'modi...\n",
       "dtype: object"
      ]
     },
     "execution_count": 8,
     "metadata": {},
     "output_type": "execute_result"
    }
   ],
   "source": [
    "path_to_json = r'D:\\Courses\\Taiyo.AI\\jsonfiles'\n",
    "# import all files from folder which ends with .json \n",
    "json_files = glob.glob(os.path.join(path_to_json, '*.json'))\n",
    "\n",
    "# convert all files to datafr`enter code here`ame\n",
    "df = pd.read_json('jsonfiles\\data-is-2014.json', orient='values', typ='series')\n",
    "df.head()\n",
    "\n",
    "\n",
    "#  The set of possible orients is:\n",
    "\n",
    "#     - 'split' : dict like\n",
    "#       {index -> [index], columns -> [columns], data -> [values]}\n",
    "#     - 'records' : list like\n",
    "#       [{column -> value}, ... , {column -> value}]\n",
    "#     - 'index' : dict like {index -> {column -> value}}\n",
    "#     - 'columns' : dict like {column -> {index -> value}}\n",
    "#     - 'values' : just the values array"
   ]
  },
  {
   "cell_type": "code",
   "execution_count": 9,
   "id": "78f8c232",
   "metadata": {
    "scrolled": true
   },
   "outputs": [
    {
     "ename": "UnicodeDecodeError",
     "evalue": "'charmap' codec can't decode byte 0x8d in position 164825: character maps to <undefined>",
     "output_type": "error",
     "traceback": [
      "\u001b[1;31m---------------------------------------------------------------------------\u001b[0m",
      "\u001b[1;31mUnicodeDecodeError\u001b[0m                        Traceback (most recent call last)",
      "Input \u001b[1;32mIn [9]\u001b[0m, in \u001b[0;36m<cell line: 2>\u001b[1;34m()\u001b[0m\n\u001b[0;32m      2\u001b[0m \u001b[38;5;28;01mfor\u001b[39;00m file \u001b[38;5;129;01min\u001b[39;00m json_files:\n\u001b[0;32m      3\u001b[0m     \u001b[38;5;28;01mwith\u001b[39;00m \u001b[38;5;28mopen\u001b[39m(file) \u001b[38;5;28;01mas\u001b[39;00m doc:\n\u001b[1;32m----> 4\u001b[0m         exp \u001b[38;5;241m=\u001b[39m json\u001b[38;5;241m.\u001b[39mloads(\u001b[43mdoc\u001b[49m\u001b[38;5;241;43m.\u001b[39;49m\u001b[43mread\u001b[49m\u001b[43m(\u001b[49m\u001b[43m)\u001b[49m)\n\u001b[0;32m      5\u001b[0m         file_list\u001b[38;5;241m.\u001b[39mappend(exp)\n",
      "File \u001b[1;32mC:\\Python\\Python39\\lib\\encodings\\cp1252.py:23\u001b[0m, in \u001b[0;36mIncrementalDecoder.decode\u001b[1;34m(self, input, final)\u001b[0m\n\u001b[0;32m     22\u001b[0m \u001b[38;5;28;01mdef\u001b[39;00m \u001b[38;5;21mdecode\u001b[39m(\u001b[38;5;28mself\u001b[39m, \u001b[38;5;28minput\u001b[39m, final\u001b[38;5;241m=\u001b[39m\u001b[38;5;28;01mFalse\u001b[39;00m):\n\u001b[1;32m---> 23\u001b[0m     \u001b[38;5;28;01mreturn\u001b[39;00m \u001b[43mcodecs\u001b[49m\u001b[38;5;241;43m.\u001b[39;49m\u001b[43mcharmap_decode\u001b[49m\u001b[43m(\u001b[49m\u001b[38;5;28;43minput\u001b[39;49m\u001b[43m,\u001b[49m\u001b[38;5;28;43mself\u001b[39;49m\u001b[38;5;241;43m.\u001b[39;49m\u001b[43merrors\u001b[49m\u001b[43m,\u001b[49m\u001b[43mdecoding_table\u001b[49m\u001b[43m)\u001b[49m[\u001b[38;5;241m0\u001b[39m]\n",
      "\u001b[1;31mUnicodeDecodeError\u001b[0m: 'charmap' codec can't decode byte 0x8d in position 164825: character maps to <undefined>"
     ]
    }
   ],
   "source": [
    "file_list = []\n",
    "for file in json_files:\n",
    "    with open(file) as doc:\n",
    "        exp = json.loads(doc.read())\n",
    "        file_list.append(exp)"
   ]
  },
  {
   "cell_type": "code",
   "execution_count": 10,
   "id": "dd60755f",
   "metadata": {},
   "outputs": [],
   "source": [
    "model_type = 'bert'\n",
    "model_name = 'bert-base-cased'\n",
    "\n",
    "train_args = {\n",
    "    'reprocess_input_data' : True,\n",
    "    'overwrite_output_dir' : True,\n",
    "    'use_cached_eval_features': True,\n",
    "    'output_dir' : f'outouts/{model_type}',\n",
    "    'best_model_dir' : f'outputs/{model_type}/best_model',\n",
    "    'evaluate_during_training' : False,\n",
    "    'max_seq_length' : 128,\n",
    "    'num_train_epochs' : 5,\n",
    "    'wandb_project' : 'Question Answer Application',\n",
    "    'wandb_kwargs' : {'name':model_name}\n",
    "} "
   ]
  },
  {
   "cell_type": "code",
   "execution_count": 11,
   "id": "453166d7",
   "metadata": {},
   "outputs": [
    {
     "name": "stderr",
     "output_type": "stream",
     "text": [
      "Some weights of the model checkpoint at bert-base-cased were not used when initializing BertForQuestionAnswering: ['cls.predictions.transform.LayerNorm.weight', 'cls.predictions.decoder.weight', 'cls.predictions.transform.dense.weight', 'cls.predictions.transform.dense.bias', 'cls.seq_relationship.weight', 'cls.seq_relationship.bias', 'cls.predictions.bias', 'cls.predictions.transform.LayerNorm.bias']\n",
      "- This IS expected if you are initializing BertForQuestionAnswering from the checkpoint of a model trained on another task or with another architecture (e.g. initializing a BertForSequenceClassification model from a BertForPreTraining model).\n",
      "- This IS NOT expected if you are initializing BertForQuestionAnswering from the checkpoint of a model that you expect to be exactly identical (initializing a BertForSequenceClassification model from a BertForSequenceClassification model).\n",
      "Some weights of BertForQuestionAnswering were not initialized from the model checkpoint at bert-base-cased and are newly initialized: ['qa_outputs.bias', 'qa_outputs.weight']\n",
      "You should probably TRAIN this model on a down-stream task to be able to use it for predictions and inference.\n"
     ]
    }
   ],
   "source": [
    "model = QuestionAnsweringModel(model_type, model_name, args=train_args, use_cuda=False)"
   ]
  },
  {
   "cell_type": "code",
   "execution_count": 12,
   "id": "90a0237a",
   "metadata": {
    "scrolled": true
   },
   "outputs": [
    {
     "ename": "TypeError",
     "evalue": "Input should be a list of examples.",
     "output_type": "error",
     "traceback": [
      "\u001b[1;31m---------------------------------------------------------------------------\u001b[0m",
      "\u001b[1;31mTypeError\u001b[0m                                 Traceback (most recent call last)",
      "Input \u001b[1;32mIn [12]\u001b[0m, in \u001b[0;36m<cell line: 1>\u001b[1;34m()\u001b[0m\n\u001b[1;32m----> 1\u001b[0m \u001b[43mmodel\u001b[49m\u001b[38;5;241;43m.\u001b[39;49m\u001b[43mtrain_model\u001b[49m\u001b[43m(\u001b[49m\u001b[43mdf\u001b[49m\u001b[43m)\u001b[49m\n",
      "File \u001b[1;32mC:\\Python\\Python39\\lib\\site-packages\\simpletransformers\\question_answering\\question_answering_model.py:449\u001b[0m, in \u001b[0;36mQuestionAnsweringModel.train_model\u001b[1;34m(self, train_data, output_dir, show_running_loss, args, eval_data, verbose, **kwargs)\u001b[0m\n\u001b[0;32m    446\u001b[0m     \u001b[38;5;28;01melse\u001b[39;00m:\n\u001b[0;32m    447\u001b[0m         train_examples \u001b[38;5;241m=\u001b[39m train_data\n\u001b[1;32m--> 449\u001b[0m     train_dataset \u001b[38;5;241m=\u001b[39m \u001b[38;5;28;43mself\u001b[39;49m\u001b[38;5;241;43m.\u001b[39;49m\u001b[43mload_and_cache_examples\u001b[49m\u001b[43m(\u001b[49m\u001b[43mtrain_examples\u001b[49m\u001b[43m)\u001b[49m\n\u001b[0;32m    451\u001b[0m os\u001b[38;5;241m.\u001b[39mmakedirs(output_dir, exist_ok\u001b[38;5;241m=\u001b[39m\u001b[38;5;28;01mTrue\u001b[39;00m)\n\u001b[0;32m    453\u001b[0m global_step, training_details \u001b[38;5;241m=\u001b[39m \u001b[38;5;28mself\u001b[39m\u001b[38;5;241m.\u001b[39mtrain(\n\u001b[0;32m    454\u001b[0m     train_dataset,\n\u001b[0;32m    455\u001b[0m     output_dir,\n\u001b[1;32m   (...)\u001b[0m\n\u001b[0;32m    458\u001b[0m     \u001b[38;5;241m*\u001b[39m\u001b[38;5;241m*\u001b[39mkwargs,\n\u001b[0;32m    459\u001b[0m )\n",
      "File \u001b[1;32mC:\\Python\\Python39\\lib\\site-packages\\simpletransformers\\question_answering\\question_answering_model.py:289\u001b[0m, in \u001b[0;36mQuestionAnsweringModel.load_and_cache_examples\u001b[1;34m(self, examples, evaluate, no_cache, output_examples)\u001b[0m\n\u001b[0;32m    286\u001b[0m \u001b[38;5;28;01mif\u001b[39;00m \u001b[38;5;129;01mnot\u001b[39;00m no_cache:\n\u001b[0;32m    287\u001b[0m     os\u001b[38;5;241m.\u001b[39mmakedirs(\u001b[38;5;28mself\u001b[39m\u001b[38;5;241m.\u001b[39margs\u001b[38;5;241m.\u001b[39mcache_dir, exist_ok\u001b[38;5;241m=\u001b[39m\u001b[38;5;28;01mTrue\u001b[39;00m)\n\u001b[1;32m--> 289\u001b[0m examples \u001b[38;5;241m=\u001b[39m \u001b[43mget_examples\u001b[49m\u001b[43m(\u001b[49m\u001b[43mexamples\u001b[49m\u001b[43m,\u001b[49m\u001b[43m \u001b[49m\u001b[43mis_training\u001b[49m\u001b[38;5;241;43m=\u001b[39;49m\u001b[38;5;129;43;01mnot\u001b[39;49;00m\u001b[43m \u001b[49m\u001b[43mevaluate\u001b[49m\u001b[43m)\u001b[49m\n\u001b[0;32m    291\u001b[0m mode \u001b[38;5;241m=\u001b[39m \u001b[38;5;124m\"\u001b[39m\u001b[38;5;124mdev\u001b[39m\u001b[38;5;124m\"\u001b[39m \u001b[38;5;28;01mif\u001b[39;00m evaluate \u001b[38;5;28;01melse\u001b[39;00m \u001b[38;5;124m\"\u001b[39m\u001b[38;5;124mtrain\u001b[39m\u001b[38;5;124m\"\u001b[39m\n\u001b[0;32m    292\u001b[0m cached_features_file \u001b[38;5;241m=\u001b[39m os\u001b[38;5;241m.\u001b[39mpath\u001b[38;5;241m.\u001b[39mjoin(\n\u001b[0;32m    293\u001b[0m     args\u001b[38;5;241m.\u001b[39mcache_dir,\n\u001b[0;32m    294\u001b[0m     \u001b[38;5;124m\"\u001b[39m\u001b[38;5;124mcached_\u001b[39m\u001b[38;5;132;01m{}\u001b[39;00m\u001b[38;5;124m_\u001b[39m\u001b[38;5;132;01m{}\u001b[39;00m\u001b[38;5;124m_\u001b[39m\u001b[38;5;132;01m{}\u001b[39;00m\u001b[38;5;124m_\u001b[39m\u001b[38;5;132;01m{}\u001b[39;00m\u001b[38;5;124m\"\u001b[39m\u001b[38;5;241m.\u001b[39mformat(\n\u001b[0;32m    295\u001b[0m         mode, args\u001b[38;5;241m.\u001b[39mmodel_type, args\u001b[38;5;241m.\u001b[39mmax_seq_length, \u001b[38;5;28mlen\u001b[39m(examples)\n\u001b[0;32m    296\u001b[0m     ),\n\u001b[0;32m    297\u001b[0m )\n",
      "File \u001b[1;32mC:\\Python\\Python39\\lib\\site-packages\\simpletransformers\\question_answering\\question_answering_utils.py:132\u001b[0m, in \u001b[0;36mget_examples\u001b[1;34m(examples_to_process, is_training, version_2_with_negative)\u001b[0m\n\u001b[0;32m    130\u001b[0m \u001b[38;5;28;01mdef\u001b[39;00m \u001b[38;5;21mget_examples\u001b[39m(examples_to_process, is_training\u001b[38;5;241m=\u001b[39m\u001b[38;5;28;01mTrue\u001b[39;00m, version_2_with_negative\u001b[38;5;241m=\u001b[39m\u001b[38;5;28;01mTrue\u001b[39;00m):\n\u001b[0;32m    131\u001b[0m     \u001b[38;5;28;01mif\u001b[39;00m \u001b[38;5;129;01mnot\u001b[39;00m \u001b[38;5;28misinstance\u001b[39m(examples_to_process, \u001b[38;5;28mlist\u001b[39m):\n\u001b[1;32m--> 132\u001b[0m         \u001b[38;5;28;01mraise\u001b[39;00m \u001b[38;5;167;01mTypeError\u001b[39;00m(\u001b[38;5;124m\"\u001b[39m\u001b[38;5;124mInput should be a list of examples.\u001b[39m\u001b[38;5;124m\"\u001b[39m)\n\u001b[0;32m    134\u001b[0m     \u001b[38;5;28;01mdef\u001b[39;00m \u001b[38;5;21mis_whitespace\u001b[39m(c):\n\u001b[0;32m    135\u001b[0m         \u001b[38;5;28;01mif\u001b[39;00m c \u001b[38;5;241m==\u001b[39m \u001b[38;5;124m\"\u001b[39m\u001b[38;5;124m \u001b[39m\u001b[38;5;124m\"\u001b[39m \u001b[38;5;129;01mor\u001b[39;00m c \u001b[38;5;241m==\u001b[39m \u001b[38;5;124m\"\u001b[39m\u001b[38;5;130;01m\\t\u001b[39;00m\u001b[38;5;124m\"\u001b[39m \u001b[38;5;129;01mor\u001b[39;00m c \u001b[38;5;241m==\u001b[39m \u001b[38;5;124m\"\u001b[39m\u001b[38;5;130;01m\\r\u001b[39;00m\u001b[38;5;124m\"\u001b[39m \u001b[38;5;129;01mor\u001b[39;00m c \u001b[38;5;241m==\u001b[39m \u001b[38;5;124m\"\u001b[39m\u001b[38;5;130;01m\\n\u001b[39;00m\u001b[38;5;124m\"\u001b[39m \u001b[38;5;129;01mor\u001b[39;00m \u001b[38;5;28mord\u001b[39m(c) \u001b[38;5;241m==\u001b[39m \u001b[38;5;241m0x202F\u001b[39m:\n",
      "\u001b[1;31mTypeError\u001b[0m: Input should be a list of examples."
     ]
    }
   ],
   "source": [
    "model.train_model(df)"
   ]
  }
 ],
 "metadata": {
  "kernelspec": {
   "display_name": "Python 3 (ipykernel)",
   "language": "python",
   "name": "python3"
  },
  "language_info": {
   "codemirror_mode": {
    "name": "ipython",
    "version": 3
   },
   "file_extension": ".py",
   "mimetype": "text/x-python",
   "name": "python",
   "nbconvert_exporter": "python",
   "pygments_lexer": "ipython3",
   "version": "3.9.5"
  }
 },
 "nbformat": 4,
 "nbformat_minor": 5
}
